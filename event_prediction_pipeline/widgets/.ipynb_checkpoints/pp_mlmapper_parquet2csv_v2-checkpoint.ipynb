{
 "cells": [
  {
   "cell_type": "code",
   "execution_count": 1,
   "metadata": {},
   "outputs": [],
   "source": [
    "######## Setup: ###############################\n",
    "\n",
    "import sys\n",
    "import os\n",
    "import numpy as np\n",
    "import pandas as pd\n",
    "from io import StringIO\n",
    "from pandas.tseries.offsets import MonthEnd\n",
    "import json\n",
    "import yaml\n",
    "from datetime import datetime\n",
    "\n",
    "pd.set_option('display.max_columns', None)\n",
    "pd.set_option('display.max_rows', None)\n",
    "pd.set_option('display.expand_frame_repr', False)\n",
    "#pd.set_option('max_colwidth', -1)\n",
    "\n",
    "def setdiff(first, second):\n",
    "        second = set(second)\n",
    "        return [item for item in first if item not in second]"
   ]
  },
  {
   "cell_type": "code",
   "execution_count": 2,
   "metadata": {},
   "outputs": [
    {
     "ename": "FileNotFoundError",
     "evalue": "[Errno 2] No such file or directory: 'D:/Users/nima.ramezani/Documents/projects/data-science-tools/R_Pipeline/master_config.yml'",
     "output_type": "error",
     "traceback": [
      "\u001b[0;31m---------------------------------------------------------------------------\u001b[0m",
      "\u001b[0;31mFileNotFoundError\u001b[0m                         Traceback (most recent call last)",
      "\u001b[0;32m<ipython-input-2-fc27e2cdec9f>\u001b[0m in \u001b[0;36m<module>\u001b[0;34m\u001b[0m\n\u001b[1;32m      2\u001b[0m \u001b[0mncolchunk\u001b[0m \u001b[0;34m=\u001b[0m \u001b[0;36m200\u001b[0m\u001b[0;34m\u001b[0m\u001b[0m\n\u001b[1;32m      3\u001b[0m \u001b[0mmaster_config_path\u001b[0m \u001b[0;34m=\u001b[0m \u001b[0;34m'D:/Users/nima.ramezani/Documents/projects/data-science-tools/R_Pipeline/master_config.yml'\u001b[0m\u001b[0;34m\u001b[0m\u001b[0m\n\u001b[0;32m----> 4\u001b[0;31m \u001b[0;32mwith\u001b[0m \u001b[0mopen\u001b[0m\u001b[0;34m(\u001b[0m\u001b[0mmaster_config_path\u001b[0m\u001b[0;34m)\u001b[0m \u001b[0;32mas\u001b[0m \u001b[0mmcf\u001b[0m\u001b[0;34m:\u001b[0m\u001b[0;34m\u001b[0m\u001b[0m\n\u001b[0m\u001b[1;32m      5\u001b[0m     \u001b[0mmc\u001b[0m \u001b[0;34m=\u001b[0m \u001b[0myaml\u001b[0m\u001b[0;34m.\u001b[0m\u001b[0msafe_load\u001b[0m\u001b[0;34m(\u001b[0m\u001b[0mmcf\u001b[0m\u001b[0;34m)\u001b[0m\u001b[0;34m\u001b[0m\u001b[0m\n\u001b[1;32m      6\u001b[0m \u001b[0;34m\u001b[0m\u001b[0m\n",
      "\u001b[0;31mFileNotFoundError\u001b[0m: [Errno 2] No such file or directory: 'D:/Users/nima.ramezani/Documents/projects/data-science-tools/R_Pipeline/master_config.yml'"
     ]
    }
   ],
   "source": [
    "######## Inputs: ###############################\n",
    "ncolchunk = 200\n",
    "master_config_path = 'D:/Users/nima.ramezani/Documents/CodeCommit/data-science-tools/R_Pipeline/master_config.yml'\n",
    "with open(master_config_path) as mcf:\n",
    "    mc = yaml.safe_load(mcf)\n",
    "\n",
    "detools_path = 'D:/Users/nima.ramezani/Documents/CodeCommit/analytics-{}/1_code_only/9_de_tools'.format(mc['client'])\n",
    "sys.path.append(detools_path)\n",
    "import elula_detools_v06 as et\n",
    "\n",
    "\n",
    "# Use these dates to filter down the mlmapper if required\n",
    "\n",
    "min_date = datetime. strptime(mc['mlmapper_start_date'], '%Y-%m-%d').date()\n",
    "max_date = datetime. strptime(mc['mlmapper_end_date'], '%Y-%m-%d').date()"
   ]
  },
  {
   "cell_type": "code",
   "execution_count": null,
   "metadata": {},
   "outputs": [],
   "source": [
    "# Set paths\n",
    "mlm_path  = mc['path_mlmapper'] + '/' + mc['mlmapper_id'][0:8] + '/data'\n",
    "fet_path  = mc['path_mlmapper'] + '/' + mc['mlmapper_id'][0:8] + '/etc/' + 'features.json'\n",
    "csv_path  = mc['path_mlmapper'] + '/' + mc['mlmapper_id'][0:8] + '/csv'\n",
    "\n",
    "if not os.path.exists(csv_path):\n",
    "    os.makedirs(csv_path)\n",
    "    \n",
    "with open(fet_path) as fetf:\n",
    "    fet = json.load(fetf)\n",
    "    \n",
    "remaining_features = fet['features'] \n"
   ]
  },
  {
   "cell_type": "code",
   "execution_count": null,
   "metadata": {},
   "outputs": [],
   "source": [
    "# Remove existing features already copied as csv from the remaining features:\n",
    "existing = []\n",
    "listcsvs = os.listdir(csv_path)\n",
    "for fn in listcsvs:\n",
    "    tbl = pd.read_csv(csv_path + '/' + fn, header = None, nrows = 1)\n",
    "    existing += tbl.iloc[0].tolist()\n",
    "    \n",
    "remaining_features = setdiff(remaining_features, existing)"
   ]
  },
  {
   "cell_type": "code",
   "execution_count": 4,
   "metadata": {},
   "outputs": [],
   "source": [
    "if len(listcsvs) > 0:\n",
    "    cnt = (max([int(v.replace('csv_', '').replace('.csv', '')) for v in listcsvs]))\n",
    "else:\n",
    "    cnt = 0"
   ]
  },
  {
   "cell_type": "code",
   "execution_count": 4,
   "metadata": {},
   "outputs": [],
   "source": [
    "######## Run: ###############################\n",
    "while len(remaining_features) > 0:\n",
    "    cnt += 1\n",
    "    ncol = min(len(remaining_features), ncolchunk)\n",
    "    fets = remaining_features[0:ncol]\n",
    "    fets.append('caseID')\n",
    "    fets.append('eventTime')\n",
    "    fets = list(set(fets))\n",
    "    # mldf = pd.read_parquet(mlm_path, columns = fets, engine = 'pyarrow')\n",
    "    query = \"SELECT {} FROM mlmapper._{} WHERE CAST(eventTime AS DATE) >= CAST('{}' AS DATE) AND CAST(eventTime AS DATE) <= CAST('{}' AS DATE)\"\n",
    "    query = query.format(\", \".join(fets), mc[\"mlmapper_id\"].replace(\"-\", \"_\"), str(min_date), str(max_date))\n",
    "    mldf = et.execute_sql(query)\n",
    "    mldf.to_csv(csv_path + '/csv_' + str(cnt) + '.csv')\n",
    "    remaining_features = setdiff(remaining_features, fets)\n",
    "    "
   ]
  }
 ],
 "metadata": {
  "kernelspec": {
   "display_name": "Python 3",
   "language": "python",
   "name": "python3"
  },
  "language_info": {
   "codemirror_mode": {
    "name": "ipython",
    "version": 3
   },
   "file_extension": ".py",
   "mimetype": "text/x-python",
   "name": "python",
   "nbconvert_exporter": "python",
   "pygments_lexer": "ipython3",
   "version": "3.6.6"
  }
 },
 "nbformat": 4,
 "nbformat_minor": 4
}
