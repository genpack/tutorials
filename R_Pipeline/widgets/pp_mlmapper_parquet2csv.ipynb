{
 "cells": [
  {
   "cell_type": "code",
   "execution_count": 5,
   "metadata": {},
   "outputs": [],
   "source": [
    "######## Setup: ###############################\n",
    "\n",
    "import sys\n",
    "import os\n",
    "# import numpy as np\n",
    "import pandas as pd\n",
    "from io import StringIO\n",
    "from pandas.tseries.offsets import MonthEnd\n",
    "import json\n",
    "import yaml\n",
    "from datetime import datetime\n",
    "\n",
    "pd.set_option('display.max_columns', None)\n",
    "pd.set_option('display.max_rows', None)\n",
    "pd.set_option('display.expand_frame_repr', False)\n",
    "#pd.set_option('max_colwidth', -1)\n",
    "\n",
    "def setdiff(first, second):\n",
    "        second = set(second)\n",
    "        return [item for item in first if item not in second]"
   ]
  },
  {
   "cell_type": "code",
   "execution_count": 6,
   "metadata": {},
   "outputs": [],
   "source": [
    "######## Inputs: ###############################\n",
    "ncolchunk = 200\n",
    "master_config_path = 'D:/Users/nima.ramezani/Documents/projects/data-science-tools/R_Pipeline/master_config.yml'\n",
    "\n",
    "with open(master_config_path) as mcf:\n",
    "    mc = yaml.safe_load(mcf)\n",
    "\n",
    "# Use these dates to filter down the mlmapper if required\n",
    "\n",
    "min_date = datetime. strptime(mc['mlmapper_start_date'], '%Y-%m-%d').date()\n",
    "max_date = datetime. strptime(mc['mlmapper_end_date'], '%Y-%m-%d').date()"
   ]
  },
  {
   "cell_type": "code",
   "execution_count": null,
   "metadata": {},
   "outputs": [],
   "source": [
    "# Set paths\n",
    "mlm_path  = mc['path_mlmapper'] + '/' + mc['mlmapper_id'][0:8] + '/data'\n",
    "fet_path  = mc['path_mlmapper'] + '/' + mc['mlmapper_id'][0:8] + '/etc/' + 'features.json'\n",
    "csv_path  = mc['path_mlmapper'] + '/' + mc['mlmapper_id'][0:8] + '/csv'\n",
    "\n",
    "if not os.path.exists(csv_path):\n",
    "    os.makedirs(csv_path)\n",
    "    \n",
    "with open(fet_path) as fetf:\n",
    "    fet = json.load(fetf)\n",
    "    \n",
    "remaining_features = fet['features'] \n"
   ]
  },
  {
   "cell_type": "code",
   "execution_count": null,
   "metadata": {},
   "outputs": [],
   "source": [
    "# Remove existing features already copied as csv from the remaining features:\n",
    "existing = []\n",
    "listcsvs = os.listdir(csv_path)\n",
    "for fn in listcsvs:\n",
    "    tbl = pd.read_csv(csv_path + '/' + fn, header = None, nrows = 1)\n",
    "    existing += tbl.iloc[0].tolist()\n",
    "    \n",
    "remaining_features = setdiff(remaining_features, existing)"
   ]
  },
  {
   "cell_type": "code",
   "execution_count": 4,
   "metadata": {},
   "outputs": [],
   "source": [
    "if len(listcsvs) > 0:\n",
    "    cnt = (max([int(v.replace('csv_', '').replace('.csv', '')) for v in listcsvs]))\n",
    "else:\n",
    "    cnt = 0"
   ]
  },
  {
   "cell_type": "code",
   "execution_count": 4,
   "metadata": {},
   "outputs": [],
   "source": [
    "######## Run: ###############################\n",
    "while len(remaining_features) > 0:\n",
    "    cnt += 1\n",
    "    ncol = min(len(remaining_features), ncolchunk)\n",
    "    fets = remaining_features[0:ncol]\n",
    "    fets.append('caseID')\n",
    "    fets.append('eventTime')\n",
    "    fets = list(set(fets))\n",
    "    mldf = pd.read_parquet(mlm_path, columns = fets, engine = 'pyarrow')\n",
    "    mldf[(mldf.eventTime > min_date) & (mldf.eventTime < max_date)].to_csv(csv_path + '/csv_' + str(cnt) + '.csv')\n",
    "    remaining_features = setdiff(remaining_features, fets)\n",
    "    "
   ]
  }
 ],
 "metadata": {
  "kernelspec": {
   "display_name": "Python 3",
   "language": "python",
   "name": "python3"
  },
  "language_info": {
   "codemirror_mode": {
    "name": "ipython",
    "version": 3
   },
   "file_extension": ".py",
   "mimetype": "text/x-python",
   "name": "python",
   "nbconvert_exporter": "python",
   "pygments_lexer": "ipython3",
   "version": "3.6.6"
  }
 },
 "nbformat": 4,
 "nbformat_minor": 4
}
